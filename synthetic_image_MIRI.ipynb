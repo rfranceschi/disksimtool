{
 "cells": [
  {
   "cell_type": "code",
   "id": "55c42abb994bcbf6",
   "metadata": {
    "collapsed": false,
    "ExecuteTime": {
     "end_time": "2024-05-29T09:42:20.794253Z",
     "start_time": "2024-05-29T09:42:16.421700Z"
    }
   },
   "source": [
    "import pickle\n",
    "from functools import partial\n",
    "from pathlib import Path\n",
    "\n",
    "import astropy.constants as c\n",
    "import astropy.units as u\n",
    "from dipsy.utils import Capturing\n",
    "import disklab\n",
    "import disklab.radmc3d\n",
    "import dsharp_opac as do\n",
    "import gofish as gf\n",
    "from matplotlib import colors\n",
    "import matplotlib.pyplot as plt\n",
    "import numpy as np\n",
    "from radmc3dPy import image\n",
    "from scipy.integrate import simpson\n",
    "from scipy.interpolate import interp1d\n",
    "\n",
    "import helper_functions as hf \n",
    "import helper_functions_old as hf_old"
   ],
   "execution_count": 1,
   "outputs": []
  },
  {
   "metadata": {
    "ExecuteTime": {
     "end_time": "2024-05-29T09:42:22.736950Z",
     "start_time": "2024-05-29T09:42:22.734719Z"
    }
   },
   "cell_type": "code",
   "source": "au = c.au.cgs.value",
   "id": "7e2507a68b0030fd",
   "execution_count": 2,
   "outputs": []
  },
  {
   "cell_type": "code",
   "source": [
    "distance = 56 * u.pc\n",
    "incl = 0\n",
    "PA = 0\n",
    "\n",
    "with open('options.pickle', 'rb') as fff:\n",
    "    options_IMLup = pickle.load(fff)\n",
    "with open('profile_ant.pickle', 'rb') as fff:\n",
    "    profile_ant = pickle.load(fff)"
   ],
   "metadata": {
    "collapsed": false,
    "ExecuteTime": {
     "end_time": "2024-05-22T07:52:09.142268Z",
     "start_time": "2024-05-22T07:52:09.139908Z"
    }
   },
   "id": "7972855310ae45ff",
   "execution_count": 3,
   "outputs": []
  },
  {
   "cell_type": "markdown",
   "source": [
    "The wavelenth for the RT image has to match exactly one of the wavelengths in the opacity dictionary. Take the closest wavelength to not have to recalculate the opacity."
   ],
   "metadata": {
    "collapsed": false
   },
   "id": "45235b8d40005095"
  },
  {
   "cell_type": "code",
   "source": [
    "lam_image = 15 * 1e-4  # cm\n",
    "\n",
    "opac_dict = hf_old.read_opacs(Path('opacities/dustkappa_p30_chopped.npz'))\n",
    "lam_opac = opac_dict['lam']\n",
    "n_a = len(opac_dict['a'])\n",
    "i = np.nonzero(lam_opac < lam_image)[0][-1]\n",
    "lam_image = lam_opac[i]\n",
    "print(lam_image)"
   ],
   "metadata": {
    "collapsed": false,
    "ExecuteTime": {
     "end_time": "2024-05-22T07:52:09.281278Z",
     "start_time": "2024-05-22T07:52:09.142844Z"
    }
   },
   "id": "da48bc323571b3c0",
   "execution_count": 4,
   "outputs": []
  },
  {
   "cell_type": "code",
   "source": "radmc3d_exec = Path('~/bin/radmc3d').expanduser()",
   "metadata": {
    "collapsed": false,
    "ExecuteTime": {
     "end_time": "2024-05-22T07:52:09.284140Z",
     "start_time": "2024-05-22T07:52:09.282570Z"
    }
   },
   "id": "e543aa0766c83be7",
   "execution_count": 5,
   "outputs": []
  },
  {
   "metadata": {
    "ExecuteTime": {
     "end_time": "2024-05-29T12:55:17.205317Z",
     "start_time": "2024-05-29T12:55:17.202629Z"
    }
   },
   "cell_type": "code",
   "source": [
    "def sigma_with_rim(r: float, sigma_exp: float, r_exp: float, p: float, w: float) -> float:\n",
    "    \"\"\"\n",
    "    Computes the surface density with an inner rim, as in Eq.(4) in Menu et al. 2014 (https://arxiv.org/pdf/1402.6597).\n",
    "\n",
    "    Parameters\n",
    "    ----------\n",
    "    r: float\n",
    "        Radial position\n",
    "    sigma_exp: float\n",
    "        Normalization coefficient\n",
    "    r_exp: float\n",
    "        Radial position where the outer disk starts\n",
    "    p: float\n",
    "        Exponent of the outer disk profile\n",
    "    w: float\n",
    "        Dimensionless rim width\n",
    "\n",
    "    Returns\n",
    "    -------\n",
    "    float\n",
    "        Surface density\n",
    "    \"\"\"\n",
    "    r_dimensionless = r / r_exp\n",
    "    outer_disk_density = sigma_exp * r_dimensionless ** -p\n",
    "    \n",
    "    inner_rim_mask = r_dimensionless < 1\n",
    "    surface_density = outer_disk_density * np.ones_like(r)\n",
    "    surface_density[inner_rim_mask] *= np.exp(-((1 - r_dimensionless[inner_rim_mask]) / w) ** 3)\n",
    "    \n",
    "    return surface_density"
   ],
   "id": "85edf0c617bbc0e8",
   "execution_count": 5,
   "outputs": []
  },
  {
   "metadata": {
    "ExecuteTime": {
     "end_time": "2024-05-29T12:57:50.142208Z",
     "start_time": "2024-05-29T12:57:50.055065Z"
    }
   },
   "cell_type": "code",
   "source": [
    "r_in = 0.32 * au\n",
    "r_out = 61.7 * au\n",
    "r = np.linspace(r_in, r_out, 1000)\n",
    "profile = sigma_with_rim(r, 10, 3.1 * au, 0.5, 0.45)\n",
    "plt.semilogx(r / au, profile)"
   ],
   "id": "843731055504d031",
   "execution_count": 10,
   "outputs": []
  },
  {
   "cell_type": "code",
   "source": [
    "def interp_profile(profile_dict: dict, total_disk_mass: float) -> callable:\n",
    "    \"\"\"\n",
    "    Interpolate a profile to use as gas surface density, normalized to a given total disk mass.\n",
    "    \n",
    "    Parameters\n",
    "    ----------\n",
    "    profile_dict: dict\n",
    "        Dictionary containing the profile to use as surface density distribution. The keys must be named 'x' and 'y'.\n",
    "    total_disk_mass: float\n",
    "        Total disk mass.\n",
    "        \n",
    "    Returns\n",
    "    -------\n",
    "    float\n",
    "        Normalized gas surface density function.\n",
    "    \"\"\"\n",
    "    normalization_constant = total_disk_mass / simpson(2 * np.pi * profile_dict['x'] * profile_dict['y'], profile_dict['x'])\n",
    "    \n",
    "    # The profile cannot be <= 0, make sure that doesn't happen.\n",
    "    y_profile = np.where(profile_dict['y'] > 0, profile_dict['y'], 0)\n",
    "    # y_profile = np.copy(profile_dict['y'])\n",
    "    # if np.min(y_profile) <= 0:\n",
    "    #     y_profile += np.max(y_profile)\n",
    "\n",
    "    normalization_constant = total_disk_mass / simpson(2 * np.pi * profile_dict['x'] * y_profile, profile_dict['x'])\n",
    "    \n",
    "    interp = interp1d(profile_dict['x'], y_profile, fill_value='extrapolate', kind='quadratic')\n",
    "    return lambda x: normalization_constant * interp(x)"
   ],
   "metadata": {
    "collapsed": false,
    "ExecuteTime": {
     "end_time": "2024-05-22T07:55:39.010706Z",
     "start_time": "2024-05-22T07:55:39.007617Z"
    }
   },
   "id": "8da47996acc9accf",
   "execution_count": 13,
   "outputs": []
  },
  {
   "metadata": {},
   "cell_type": "markdown",
   "source": "Check if the profile it is properly normalized to the total disk mass",
   "id": "2e9756c28f136fd1"
  },
  {
   "cell_type": "code",
   "source": [
    "fname_profile = Path('./profile_bootstrap.pickle')\n",
    "\n",
    "with open(fname_profile, 'rb') as f:\n",
    "    profile_dict = pickle.load(f)\n",
    "\n",
    "mdisk = 0.11 * c.M_sun.cgs.value\n",
    "density_func = interp_profile(profile_dict, mdisk)\n",
    "\n",
    "plt.plot(profile_dict['x'] / c.au.cgs.value, density_func(profile_dict['x']), label='interp')\n",
    "plt.plot(profile_dict['x'] / c.au.cgs.value, profile_dict['y'], label='orig')\n",
    "plt.legend()\n",
    "\n",
    "interp_disk_mass = simpson(2 * np.pi * profile_dict['x'] * density_func(profile_dict['x']), profile_dict['x'])\n",
    "print('original disk mass:', mdisk / c.M_sun.cgs.value, 'M_sun')\n",
    "print('interpolated disk mass:', interp_disk_mass / c.M_sun.cgs.value, 'M_sun')"
   ],
   "metadata": {
    "collapsed": false,
    "ExecuteTime": {
     "end_time": "2024-05-22T07:57:13.407226Z",
     "start_time": "2024-05-22T07:57:13.346393Z"
    }
   },
   "id": "26ca5d367d4f12f4",
   "execution_count": 16,
   "outputs": []
  },
  {
   "cell_type": "code",
   "source": [
    "options = {\n",
    "    'mstar': 0.8 * c.M_sun.cgs.value,\n",
    "    'lstar': 1 * c.L_sun.cgs.value,\n",
    "    'tstar': 3810,\n",
    "    'nr': 1000,\n",
    "    'rin': np.min(profile_dict['x']),\n",
    "    'rout': np.max(profile_dict['x']),\n",
    "    'r_c': 30 * c.au.cgs.value,\n",
    "    'alpha': 1e-3,\n",
    "    'fname_opac': '/Users/franceschi/mysims/LESIA/opacities/dustkappa_p30_chopped.npz',\n",
    "    'inc': 7,\n",
    "    'PA': 0,\n",
    "    'lam_image': lam_image,\n",
    "    'distance': 56,\n",
    "}\n",
    "\n",
    "parameters = [\n",
    "    0.5,  # grain size distribution, a**(4-x)\n",
    "    3,  # max grain size radial distribution exponent\n",
    "    0.087,  # max grain size radial distribution coefficient\n",
    "]\n",
    "\n",
    "r = np.arange(1, 200) * u.au"
   ],
   "metadata": {
    "collapsed": false,
    "ExecuteTime": {
     "end_time": "2024-04-23T09:22:49.279101Z",
     "start_time": "2024-04-23T09:22:49.244432Z"
    }
   },
   "id": "746a8785913bcde8",
   "execution_count": 7,
   "outputs": []
  },
  {
   "cell_type": "code",
   "source": [
    "models_folder = Path('./models')\n",
    "model_name = 'model_' + '_'.join(str(_param) for _param in parameters)\n",
    "model_path = models_folder / model_name / model_name\n",
    "model_path.parent.mkdir(parents=True, exist_ok=True)"
   ],
   "metadata": {
    "collapsed": false,
    "ExecuteTime": {
     "end_time": "2024-04-23T09:22:49.279688Z",
     "start_time": "2024-04-23T09:22:49.252506Z"
    }
   },
   "id": "e40f6cabee17bf86",
   "execution_count": 8,
   "outputs": []
  },
  {
   "cell_type": "code",
   "source": [
    "if model_path.is_file():\n",
    "    with open(model_path, 'rb') as fff:\n",
    "        disk2d = pickle.load(fff)\n",
    "else:\n",
    "    disk2d = hf_old.make_disklab2d_model(\n",
    "        parameters,\n",
    "        options['mstar'],\n",
    "        options['lstar'],\n",
    "        options['tstar'],\n",
    "        options['nr'],\n",
    "        options['alpha'],\n",
    "        options['rin'],\n",
    "        options['rout'],\n",
    "        options['r_c'],\n",
    "        options['fname_opac'],\n",
    "        density_func,\n",
    "        show_plots=False\n",
    "    )\n",
    "    with open(model_path, 'wb') as fff:\n",
    "        pickle.dump(disk2d, fff)"
   ],
   "metadata": {
    "collapsed": true,
    "ExecuteTime": {
     "end_time": "2024-04-23T09:22:50.282073Z",
     "start_time": "2024-04-23T09:22:49.262662Z"
    }
   },
   "id": "initial_id",
   "execution_count": 9,
   "outputs": []
  },
  {
   "cell_type": "code",
   "source": [
    "opac_dict = hf_old.read_opacs(options['fname_opac'])\n",
    "lam_opac = opac_dict['lam']\n",
    "n_a = len(opac_dict['a'])\n",
    "\n",
    "radmcfolder = model_path.parents[0] / 'radmc_run/'\n",
    "radmcfolder.mkdir(parents=True, exist_ok=True)\n",
    "hf_old.write_radmc3d(disk2d, lam_opac, radmcfolder, show_plots=False)\n",
    "\n",
    "# write the detailed scattering matrix files\n",
    "for i_grain in range(n_a):\n",
    "    do.write_radmc3d_scatmat_file(i_grain, opac_dict, f'{i_grain}', path=radmcfolder)\n",
    "\n",
    "with open(Path(radmcfolder) / 'dustopac.inp', 'w') as f:\n",
    "    disklab.radmc3d.write(f, '2               Format number of this file')\n",
    "    disklab.radmc3d.write(f, '{}              Nr of dust species'.format(n_a))\n",
    "\n",
    "    for i_grain in range(n_a):\n",
    "        disklab.radmc3d.write(f, '============================================================================')\n",
    "        disklab.radmc3d.write(f, '10               Way in which this dust species is read')\n",
    "        disklab.radmc3d.write(f, '0               0=Thermal grain')\n",
    "        disklab.radmc3d.write(f, '{}              Extension of name of dustscatmat_***.inp file'.format(i_grain))\n",
    "\n",
    "    disklab.radmc3d.write(f, '----------------------------------------------------------------------------')\n",
    "\n",
    "radmc_call = (f\"image incl {options['inc']} posang {options['PA'] - 90} npix 100 lambda {options['lam_image'] * 1e4} \"\n",
    "              f\"sizeau {2 * options['rout'] / c.au.cgs.value} setthreads 4\")\n",
    "disklab.radmc3d.radmc3d(\n",
    "    radmc_call,\n",
    "    path=radmcfolder,\n",
    "    executable=str(radmc3d_exec)\n",
    ")"
   ],
   "metadata": {
    "collapsed": false,
    "ExecuteTime": {
     "end_time": "2024-04-23T09:43:44.967869Z",
     "start_time": "2024-04-23T09:22:50.291783Z"
    }
   },
   "id": "da13dcb04eab2e21",
   "execution_count": 10,
   "outputs": []
  },
  {
   "cell_type": "code",
   "source": [
    "fname_image_sim = radmcfolder / 'image.fits'\n",
    "radmc_image_path = radmcfolder / 'image.out'\n",
    "if radmc_image_path.is_file():\n",
    "    im_mm_sim = image.readImage(str(radmc_image_path))\n",
    "    radmc_image_path.replace(radmcfolder / 'image.out')\n",
    "    im_mm_sim.writeFits(str(fname_image_sim), dpc=options['distance'], coord='11h01m51.9053285064s -34d42m17.033218380s')"
   ],
   "metadata": {
    "collapsed": false,
    "ExecuteTime": {
     "end_time": "2024-04-23T09:46:53.623724Z",
     "start_time": "2024-04-23T09:43:44.971435Z"
    }
   },
   "id": "30146aa07a1a95fd",
   "execution_count": 11,
   "outputs": []
  },
  {
   "cell_type": "code",
   "source": [
    "2 * options['rout'] / c.au.cgs.value"
   ],
   "metadata": {
    "collapsed": false,
    "ExecuteTime": {
     "end_time": "2024-04-23T09:46:53.722875Z",
     "start_time": "2024-04-23T09:46:53.572601Z"
    }
   },
   "id": "7d606343b90b7305",
   "execution_count": 12,
   "outputs": []
  },
  {
   "cell_type": "code",
   "source": [
    "diam = 6.7 * u.m\n",
    "lam_tel = 15 * u.micron\n",
    "angle = (lam_tel / diam).decompose() * u.rad\n",
    "angle * 56 * c.pc.to(u.au)"
   ],
   "metadata": {
    "collapsed": false,
    "ExecuteTime": {
     "end_time": "2024-04-23T09:46:53.724361Z",
     "start_time": "2024-04-23T09:46:53.581657Z"
    }
   },
   "id": "8bf899a5d86b12bb",
   "execution_count": 13,
   "outputs": []
  },
  {
   "cell_type": "code",
   "source": [
    "plt.plot(disk2d.disk.r / c.au.cgs.value, disk2d.disk.sigma)"
   ],
   "metadata": {
    "collapsed": false,
    "ExecuteTime": {
     "end_time": "2024-04-23T09:46:53.845779Z",
     "start_time": "2024-04-23T09:46:53.588129Z"
    }
   },
   "id": "ab97ba27546caf76",
   "execution_count": 14,
   "outputs": []
  },
  {
   "cell_type": "code",
   "source": [
    "model_path.parents[0] / 'radmc_run' / 'image.fits'"
   ],
   "metadata": {
    "collapsed": false,
    "ExecuteTime": {
     "end_time": "2024-04-23T09:46:53.846773Z",
     "start_time": "2024-04-23T09:46:53.753576Z"
    }
   },
   "id": "57b46b2ce72d97dd",
   "execution_count": 15,
   "outputs": []
  },
  {
   "cell_type": "code",
   "source": [
    "image_path = model_path.parents[0] / 'radmc_run' / 'image.fits'\n",
    "imcube_model = gf.imagecube(image_path)\n",
    "\n",
    "f, ax = plt.subplots()\n",
    "norm = colors.LogNorm(1e-1, 1e-10)\n",
    "im = ax.imshow(imcube_model.data, origin='lower', extent=imcube_model.extent, cmap='inferno', norm=norm)\n",
    "cb = plt.colorbar(im)\n"
   ],
   "metadata": {
    "collapsed": false,
    "ExecuteTime": {
     "end_time": "2024-04-23T09:46:54.361671Z",
     "start_time": "2024-04-23T09:46:53.762053Z"
    }
   },
   "id": "be008dc0a94c4373",
   "execution_count": 16,
   "outputs": []
  },
  {
   "cell_type": "code",
   "source": [
    "f, ax = plt.subplots()\n",
    "norm = colors.LogNorm(1e-15, 1e-1)\n",
    "im = ax.imshow(imcube_model.data, origin='lower', extent=imcube_model.extent, cmap='inferno', norm=norm)\n",
    "cb = plt.colorbar(im)\n",
    "\n",
    "rings_loc = (((np.array([32, 80, 120, 172, 210]) << u.au)/distance.to(u.au)).value * u.rad).to_value(u.arcsec)\n",
    "for _ring in rings_loc:\n",
    "    imcube_model.plot_mask(ax=ax, mask_alpha=0, r_max=_ring)"
   ],
   "metadata": {
    "collapsed": false,
    "ExecuteTime": {
     "end_time": "2024-04-23T09:46:54.921807Z",
     "start_time": "2024-04-23T09:46:54.357493Z"
    }
   },
   "id": "5a56bcb2b3296c8a",
   "execution_count": 17,
   "outputs": []
  },
  {
   "cell_type": "code",
   "source": [
    "f, ax = plt.subplots()\n",
    "\n",
    "rings_loc = np.array([32, 80, 120, 172, 210])\n",
    "x_model, y_model, dy_model = imcube_model.radial_profile(inc=incl, PA=PA)\n",
    "x_model = ((x_model * u.arcsec).to_value(u.rad, equivalencies=u.dimensionless_angles()) * distance).to(u.au)\n",
    "ax.semilogy(x_model, y_model, label='model')\n",
    "ax.vlines(rings_loc, 0.3 * y_model.min(), 1.2 * y_model.max())\n",
    "ax.semilogy(profile_ant['A']['x'], profile_ant['A']['y'] * 1e-7, label='obs')\n",
    "ax.set_xlabel('r [au]')\n",
    "ax.set_title(r'Radial profile 15 $\\mu$m')\n",
    "# ax.set_xlim(0, 3)\n",
    "ax.set_ylim(1e-11, 1e1)\n",
    "ax.legend()"
   ],
   "metadata": {
    "collapsed": false,
    "ExecuteTime": {
     "end_time": "2024-04-23T09:46:55.415575Z",
     "start_time": "2024-04-23T09:46:54.750081Z"
    }
   },
   "id": "7b3601f7a811767a",
   "execution_count": 18,
   "outputs": []
  }
 ],
 "metadata": {
  "kernelspec": {
   "name": "python3",
   "language": "python",
   "display_name": "Python 3 (ipykernel)"
  },
  "language_info": {
   "codemirror_mode": {
    "name": "ipython",
    "version": 2
   },
   "file_extension": ".py",
   "mimetype": "text/x-python",
   "name": "python",
   "nbconvert_exporter": "python",
   "pygments_lexer": "ipython2",
   "version": "2.7.6"
  }
 },
 "nbformat": 4,
 "nbformat_minor": 5
}
