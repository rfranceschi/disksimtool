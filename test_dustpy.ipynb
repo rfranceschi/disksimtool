{
 "cells": [
  {
   "cell_type": "code",
   "execution_count": 10,
   "id": "initial_id",
   "metadata": {
    "collapsed": true,
    "ExecuteTime": {
     "end_time": "2024-04-10T10:06:45.698402Z",
     "start_time": "2024-04-10T10:06:45.652794Z"
    }
   },
   "outputs": [],
   "source": [
    "import matplotlib.pyplot as plt\n",
    "from pathlib import Path\n",
    "import pickle\n",
    "from scipy.integrate import quad, simpson\n",
    "from scipy.interpolate import interp1d\n",
    "\n",
    "import astropy.constants as c\n",
    "import astropy.units as u\n",
    "from dustpy import Simulation, plot\n",
    "import matplotlib as mpl\n",
    "import numpy as np\n",
    "from simframe.frame import Field\n",
    "\n",
    "mpl.use('macosx')\n",
    "# mpl.use('module://matplotlib_inline.backend_inline')"
   ]
  },
  {
   "cell_type": "code",
   "outputs": [
    {
     "data": {
      "text/plain": "2.187250857767856e+32"
     },
     "execution_count": 2,
     "metadata": {},
     "output_type": "execute_result"
    }
   ],
   "source": [
    "m_disk = 0.11 * c.M_sun.cgs.value\n",
    "m_disk"
   ],
   "metadata": {
    "collapsed": false,
    "ExecuteTime": {
     "end_time": "2024-04-10T10:01:49.613546Z",
     "start_time": "2024-04-10T10:01:49.543125Z"
    }
   },
   "id": "793a564a4433abbf",
   "execution_count": 2
  },
  {
   "cell_type": "markdown",
   "source": [
    "### Simulation gas profile\n",
    "\n",
    "Use the CO brightness profile as the gas profile for the simulation. First load from file the observed profile, then interpolate it."
   ],
   "metadata": {
    "collapsed": false
   },
   "id": "9841144a2c7b88f4"
  },
  {
   "cell_type": "code",
   "outputs": [],
   "source": [
    "fname_profile = Path('./profile_C18O.pickle')\n",
    "\n",
    "with open(fname_profile, 'rb') as f:\n",
    "    profile_C18O = pickle.load(f)\n",
    "    \n",
    "f, ax = plt.subplots()\n",
    "ax.plot(profile_C18O['x'] * u.cm.to(u.au), profile_C18O['y'])\n",
    "\n",
    "\n",
    "def interp_profile_norm(radius: float, profile_dict: dict, total_disk_mass: float) -> float:\n",
    "    \"\"\"\n",
    "    Interpolate a profile to use as gas surface density, normalized to a given total disk mass.\n",
    "    \n",
    "    Parameters\n",
    "    ----------\n",
    "    radius: float\n",
    "        Radius where to evaluate the gas surface density.\n",
    "    profile_dict: dict\n",
    "        Dictionary containing the profile to use as surface density distribution. The keys must be named 'x' and 'y'.\n",
    "    total_disk_mass: float\n",
    "        Total disk mass.\n",
    "        \n",
    "    Returns\n",
    "    -------\n",
    "    float\n",
    "        Normalized gas surface density at radius 'radius'.\n",
    "    \"\"\"\n",
    "    \n",
    "    normalization_constant = total_disk_mass / simpson(2 * np.pi * profile_dict['x'] * profile_dict['y'], profile_dict['x'])\n",
    "    interp_profile = interp1d(profile_dict['x'], profile_dict['y'], fill_value='extrapolate', kind='quadratic')\n",
    "    \n",
    "    return normalization_constant * interp_profile(radius)\n"
   ],
   "metadata": {
    "collapsed": false,
    "ExecuteTime": {
     "end_time": "2024-04-10T10:01:49.730484Z",
     "start_time": "2024-04-10T10:01:49.554047Z"
    }
   },
   "id": "e76409030e7d613d",
   "execution_count": 3
  },
  {
   "cell_type": "markdown",
   "source": [
    "Create the radial grid through the Simulation class to compute sigma_mas. This breaks the class methods, so plug the \n",
    "sigma_gas into a new class instance."
   ],
   "metadata": {
    "collapsed": false
   },
   "id": "dad459993996f0ba"
  },
  {
   "cell_type": "code",
   "outputs": [],
   "source": [
    "sim = Simulation()\n",
    "sim.ini.grid.rmax = profile_C18O['x'].max()\n",
    "sim.ini.gas.Mdisk = m_disk\n",
    "sim._makeradialgrid()\n"
   ],
   "metadata": {
    "collapsed": false,
    "ExecuteTime": {
     "end_time": "2024-04-10T10:01:49.731841Z",
     "start_time": "2024-04-10T10:01:49.687771Z"
    }
   },
   "id": "d21bc9ac6dbc0e26",
   "execution_count": 4
  },
  {
   "cell_type": "code",
   "outputs": [],
   "source": [
    "SigmaGas = np.array(interp_profile_norm(sim.grid.r, profile_C18O, sim.ini.gas.Mdisk))\n",
    "sigma_gas = Field(sim, SigmaGas, description=\"Surface density [g/cm²]\")\n"
   ],
   "metadata": {
    "collapsed": false,
    "ExecuteTime": {
     "end_time": "2024-04-10T10:01:49.732977Z",
     "start_time": "2024-04-10T10:01:49.698942Z"
    }
   },
   "id": "19eb145638b2d671",
   "execution_count": 5
  },
  {
   "cell_type": "code",
   "outputs": [],
   "source": [
    "sim = Simulation()\n",
    "sim.ini.grid.rmax = profile_C18O['x'].max()\n",
    "sim.ini.gas.Mdisk = m_disk\n",
    "sim.gas.Sigma = sigma_gas\n",
    "sim.initialize()\n",
    "del(sim.integrator.instructions[1])\n"
   ],
   "metadata": {
    "collapsed": false,
    "ExecuteTime": {
     "end_time": "2024-04-10T10:01:50.100320Z",
     "start_time": "2024-04-10T10:01:49.746665Z"
    }
   },
   "id": "2b42d3bfb097f3e4",
   "execution_count": 6
  },
  {
   "cell_type": "code",
   "outputs": [],
   "source": [
    "model_dir = Path(\"data_C18O\")\n",
    "sim.writer.datadir = str(model_dir)\n",
    "if not model_dir.exists():\n",
    "    sim.run()\n"
   ],
   "metadata": {
    "collapsed": false,
    "ExecuteTime": {
     "end_time": "2024-04-10T10:01:50.158634Z",
     "start_time": "2024-04-10T10:01:50.101605Z"
    }
   },
   "id": "b37870c560369cc4",
   "execution_count": 7
  },
  {
   "cell_type": "markdown",
   "source": [
    "### <span style=\"color:red\">Testing area</span>"
   ],
   "metadata": {
    "collapsed": false
   },
   "id": "7a1826abc49bb237"
  },
  {
   "cell_type": "code",
   "outputs": [
    {
     "data": {
      "text/plain": "namespace(aIniMax=0.0001,\n          allowDriftingParticles=False,\n          erosionMassRatio=10.0,\n          d2gRatio=0.01,\n          distExp=-3.5,\n          excavatedMass=1.0,\n          fragmentDistribution=-1.8333333333333333,\n          rhoMonomer=1.67,\n          vfrag=100.0)"
     },
     "execution_count": 8,
     "metadata": {},
     "output_type": "execute_result"
    }
   ],
   "source": [
    "sim.ini.dust"
   ],
   "metadata": {
    "collapsed": false,
    "ExecuteTime": {
     "end_time": "2024-04-10T10:01:50.160686Z",
     "start_time": "2024-04-10T10:01:50.108140Z"
    }
   },
   "id": "11239cfc874a5892",
   "execution_count": 8
  },
  {
   "cell_type": "code",
   "outputs": [
    {
     "ename": "RuntimeError",
     "evalue": "Unknown data type.",
     "output_type": "error",
     "traceback": [
      "\u001B[0;31m---------------------------------------------------------------------------\u001B[0m",
      "\u001B[0;31mRuntimeError\u001B[0m                              Traceback (most recent call last)",
      "Cell \u001B[0;32mIn[9], line 1\u001B[0m\n\u001B[0;32m----> 1\u001B[0m \u001B[43mplot\u001B[49m\u001B[38;5;241;43m.\u001B[39;49m\u001B[43mpanel\u001B[49m\u001B[43m(\u001B[49m\u001B[38;5;124;43m'\u001B[39;49m\u001B[38;5;124;43mdata_mod_profile\u001B[39;49m\u001B[38;5;124;43m'\u001B[39;49m\u001B[43m,\u001B[49m\u001B[43m \u001B[49m\u001B[43mim\u001B[49m\u001B[38;5;241;43m=\u001B[39;49m\u001B[38;5;241;43m10\u001B[39;49m\u001B[43m,\u001B[49m\u001B[43m \u001B[49m\u001B[43mit\u001B[49m\u001B[38;5;241;43m=\u001B[39;49m\u001B[38;5;241;43m20\u001B[39;49m\u001B[43m)\u001B[49m\n",
      "File \u001B[0;32m~/opt/anaconda3/envs/diskchef/lib/python3.9/site-packages/dustpy/plot/plot.py:37\u001B[0m, in \u001B[0;36mpanel\u001B[0;34m(data, filename, extension, im, ir, it, show_limits, show_St1)\u001B[0m\n\u001B[1;32m     15\u001B[0m \u001B[38;5;250m\u001B[39m\u001B[38;5;124;03m\"\"\"Simple plotting script for data files or simulation objects.\u001B[39;00m\n\u001B[1;32m     16\u001B[0m \n\u001B[1;32m     17\u001B[0m \u001B[38;5;124;03mParameters\u001B[39;00m\n\u001B[0;32m   (...)\u001B[0m\n\u001B[1;32m     32\u001B[0m \u001B[38;5;124;03mshow_St1 : boolean, optional, default : True\u001B[39;00m\n\u001B[1;32m     33\u001B[0m \u001B[38;5;124;03m    If True St=1 line is plotted\"\"\"\u001B[39;00m\n\u001B[1;32m     35\u001B[0m \u001B[38;5;28;01mfrom\u001B[39;00m \u001B[38;5;21;01mdustpy\u001B[39;00m\u001B[38;5;21;01m.\u001B[39;00m\u001B[38;5;21;01mplot\u001B[39;00m \u001B[38;5;28;01mimport\u001B[39;00m __version__\n\u001B[0;32m---> 37\u001B[0m data \u001B[38;5;241m=\u001B[39m \u001B[43m_readdata\u001B[49m\u001B[43m(\u001B[49m\u001B[43mdata\u001B[49m\u001B[43m,\u001B[49m\u001B[43m \u001B[49m\u001B[43mfilename\u001B[49m\u001B[38;5;241;43m=\u001B[39;49m\u001B[43mfilename\u001B[49m\u001B[43m,\u001B[49m\u001B[43m \u001B[49m\u001B[43mextension\u001B[49m\u001B[38;5;241;43m=\u001B[39;49m\u001B[43mextension\u001B[49m\u001B[43m)\u001B[49m\n\u001B[1;32m     39\u001B[0m \u001B[38;5;66;03m# Fix indices if necessary\u001B[39;00m\n\u001B[1;32m     40\u001B[0m it \u001B[38;5;241m=\u001B[39m np\u001B[38;5;241m.\u001B[39mmaximum(\u001B[38;5;241m0\u001B[39m, it)\n",
      "File \u001B[0;32m~/opt/anaconda3/envs/diskchef/lib/python3.9/site-packages/dustpy/plot/plot.py:508\u001B[0m, in \u001B[0;36m_readdata\u001B[0;34m(data, filename, extension)\u001B[0m\n\u001B[1;32m    504\u001B[0m     vFrag \u001B[38;5;241m=\u001B[39m writer\u001B[38;5;241m.\u001B[39mread\u001B[38;5;241m.\u001B[39msequence(\u001B[38;5;124m\"\u001B[39m\u001B[38;5;124mdust.v.frag\u001B[39m\u001B[38;5;124m\"\u001B[39m)\n\u001B[1;32m    506\u001B[0m \u001B[38;5;28;01melse\u001B[39;00m:\n\u001B[0;32m--> 508\u001B[0m     \u001B[38;5;28;01mraise\u001B[39;00m \u001B[38;5;167;01mRuntimeError\u001B[39;00m(\u001B[38;5;124m\"\u001B[39m\u001B[38;5;124mUnknown data type.\u001B[39m\u001B[38;5;124m\"\u001B[39m)\n\u001B[1;32m    510\u001B[0m \u001B[38;5;66;03m# Masses\u001B[39;00m\n\u001B[1;32m    511\u001B[0m Mgas \u001B[38;5;241m=\u001B[39m (np\u001B[38;5;241m.\u001B[39mpi \u001B[38;5;241m*\u001B[39m (ri[\u001B[38;5;241m.\u001B[39m\u001B[38;5;241m.\u001B[39m\u001B[38;5;241m.\u001B[39m, \u001B[38;5;241m1\u001B[39m:]\u001B[38;5;241m*\u001B[39m\u001B[38;5;241m*\u001B[39m\u001B[38;5;241m2\u001B[39m \u001B[38;5;241m-\u001B[39m ri[\u001B[38;5;241m.\u001B[39m\u001B[38;5;241m.\u001B[39m\u001B[38;5;241m.\u001B[39m, :\u001B[38;5;241m-\u001B[39m\u001B[38;5;241m1\u001B[39m]\u001B[38;5;241m*\u001B[39m\u001B[38;5;241m*\u001B[39m\u001B[38;5;241m2\u001B[39m) \u001B[38;5;241m*\u001B[39m SigmaGas[\u001B[38;5;241m.\u001B[39m\u001B[38;5;241m.\u001B[39m\u001B[38;5;241m.\u001B[39m])\u001B[38;5;241m.\u001B[39msum(\u001B[38;5;241m-\u001B[39m\u001B[38;5;241m1\u001B[39m)\n",
      "\u001B[0;31mRuntimeError\u001B[0m: Unknown data type."
     ]
    }
   ],
   "source": [
    "plot.panel('data_mod_profile', im=10, it=20)"
   ],
   "metadata": {
    "collapsed": false,
    "ExecuteTime": {
     "end_time": "2024-04-10T10:01:50.431350Z",
     "start_time": "2024-04-10T10:01:50.115444Z"
    }
   },
   "id": "5796ee9457ff254c",
   "execution_count": 9
  },
  {
   "cell_type": "code",
   "outputs": [],
   "source": [
    "plot.ipanel('data_CO_profile')"
   ],
   "metadata": {
    "collapsed": false,
    "ExecuteTime": {
     "start_time": "2024-04-10T10:01:50.434705Z"
    }
   },
   "id": "6a8197bf5314481b",
   "execution_count": null
  },
  {
   "cell_type": "code",
   "outputs": [],
   "source": [
    "sim_test = Simulation()\n",
    "sim_test.initialize()\n",
    "# sim_test.run()\n",
    "sim_test.ini.gas"
   ],
   "metadata": {
    "collapsed": false,
    "ExecuteTime": {
     "end_time": "2024-04-10T10:01:50.483945Z",
     "start_time": "2024-04-10T10:01:50.437907Z"
    }
   },
   "id": "690be93eb3c496d1",
   "execution_count": null
  },
  {
   "cell_type": "code",
   "outputs": [],
   "source": [
    "plt.plot(sim_test.grid.r, sim_test.gas.Sigma)\n",
    "plt.plot(sim.grid.r, sim.gas.Sigma)\n",
    "plt.xlim(0, (200 * u.au).to_value(u.cm))\n",
    "plt.ylim(0, 300)\n",
    "\n",
    "from scipy.integrate import simpson\n",
    "simpson(sim_test.gas.Sigma * 2 * np.pi * sim_test.grid.r, sim_test.grid.r), simpson(sim.gas.Sigma * 2 * np.pi * \n",
    "                                                                                   sim.grid.r, sim.grid.r)"
   ],
   "metadata": {
    "collapsed": false,
    "ExecuteTime": {
     "start_time": "2024-04-10T10:01:50.441400Z"
    }
   },
   "id": "a06a35793d722d9e",
   "execution_count": null
  },
  {
   "cell_type": "code",
   "outputs": [],
   "source": [
    "plt.plot(sim.grid.r * u.cm.to(u.au), sim.gas.Sigma)\n",
    "# plt.ylim((10, 40))\n",
    "# plt.ylim((10, 40))\n",
    "# plt.xlim(20, 120)"
   ],
   "metadata": {
    "collapsed": false,
    "ExecuteTime": {
     "start_time": "2024-04-10T10:01:50.444250Z"
    }
   },
   "id": "1e3d22c7ed706f00",
   "execution_count": null
  }
 ],
 "metadata": {
  "kernelspec": {
   "name": "diskchef",
   "language": "python",
   "display_name": "diskchef"
  },
  "language_info": {
   "codemirror_mode": {
    "name": "ipython",
    "version": 2
   },
   "file_extension": ".py",
   "mimetype": "text/x-python",
   "name": "python",
   "nbconvert_exporter": "python",
   "pygments_lexer": "ipython2",
   "version": "2.7.6"
  }
 },
 "nbformat": 4,
 "nbformat_minor": 5
}
